{
 "cells": [
  {
   "cell_type": "markdown",
   "metadata": {},
   "source": [
    "### Explanation\n",
    "I was posed the question of Facebook and thought I'd give it a go for fun.  The problem description is written below.  \n",
    "\n",
    "There are some assumptions I've made.  One such assumption is with the public transportation function which states \"this costs \\\\$2 + \\\\$.10 per mile. There is a max cost of \\\\$10. If the travel is more than 50 miles, this is not an option\".  I would assume that since the cost of travel of 50 miles is \\\\$2 + \\\\$0.10 per mile = 2 + 0.1 * 50 = \\\\$7.00, that the author meant to confuse their students.  Tisk tisk.  \n",
    "\n",
    "So here we go.  Let's dive into the problem statment."
   ]
  },
  {
   "cell_type": "markdown",
   "metadata": {},
   "source": [
    "### Problem Statement:\n",
    "This lab will collect information from the user and give some travel options that would fit them.\n",
    "Your code should have 5 parts:  \n",
    "In main, collect the travelers name, whether or not they own a car, the distance they want to travel and their budget.  \n",
    "\n",
    "You will also call the following 5 functions:  \n",
    "  \n",
    "**PlaneTravel**: this costs \\\\$50 + \\\\$1 per mile. If the travel is less than 100 miles, this is not an option! Optional: you can also ask the user if they live near an airport - if they don't skip this option  \n",
    "  \n",
    "**RentACar**: this costs \\\\$20 + \\\\$.50 per mile  \n",
    "  \n",
    "**RideShare**: this costs \\\\$5 + \\\\$.30 per mile If the travel is more than 50 miles, this is not an option!  \n",
    "  \n",
    "**PublicTransportation**: this costs this costs \\\\$2 + \\\\$.10 per mile. There is a max cost of \\\\$10. If the travel is more than 50 miles, this is not an option!  \n",
    "  \n",
    "**DriveThere**: this costs \\\\$.25 per mile. If the user doesn't have a car, this is not an option  \n",
    "  \n",
    "The main part of the program should call on the proper functions and give the user the options (including both the price and the travel method). These functions should return data.  "
   ]
  },
  {
   "cell_type": "code",
   "execution_count": 1,
   "metadata": {},
   "outputs": [],
   "source": [
    "# This will get the input from the user\n",
    "def get_input():\n",
    "    name = input(\"Enter your name: \")\n",
    "    have_car = input(\"Own a car (enter Yes or No): \")\n",
    "    if have_car.lower() == 'yes':\n",
    "        have_car = True\n",
    "    else:\n",
    "        have_car = False\n",
    "    \n",
    "    distance = int(input(\"Distance you are traveling: \"))\n",
    "    budget = float(input(\"Enter your budget: \"))\n",
    "    \n",
    "    return name, have_car, distance, budget\n",
    "\n"
   ]
  },
  {
   "cell_type": "markdown",
   "metadata": {},
   "source": [
    "**PlaneTravel**: this costs \\\\$50 + \\\\$1 per mile. If the travel is less than 100 miles, this is not an option! Optional: you can also ask the user if they live near an airport - if they don't skip this option"
   ]
  },
  {
   "cell_type": "code",
   "execution_count": 2,
   "metadata": {},
   "outputs": [],
   "source": [
    "def plane_travel(distance, budget):\n",
    "    cost = 50 + distance\n",
    "    if distance < 100 or cost > budget:\n",
    "        plane_string = \"\"\n",
    "    else:\n",
    "        plane_string = \"Take a plane for: ${:,.2f}\\n\".format(cost)\n",
    "    return plane_string\n"
   ]
  },
  {
   "cell_type": "markdown",
   "metadata": {},
   "source": [
    "**RentACar**: this costs \\\\$20 + \\\\$.50 per mile  "
   ]
  },
  {
   "cell_type": "code",
   "execution_count": 3,
   "metadata": {},
   "outputs": [],
   "source": [
    "def rental(distance, budget):\n",
    "    cost = 20 + .5 * distance\n",
    "    if cost > budget:\n",
    "        rent_string = \"\"\n",
    "    else:\n",
    "        rent_string = \"Rent a car for: ${:,.2f}\\n\".format(cost)\n",
    "    return rent_string\n"
   ]
  },
  {
   "cell_type": "markdown",
   "metadata": {},
   "source": [
    "**RideShare**: this costs \\\\$5 + \\\\$.30 per mile If the travel is more than 50 miles, this is not an option!"
   ]
  },
  {
   "cell_type": "code",
   "execution_count": 4,
   "metadata": {},
   "outputs": [],
   "source": [
    "def ride_share(distance, budget):\n",
    "    cost = 5 + .3 * distance\n",
    "    if distance > 50 or cost > budget:\n",
    "        ride_share_string = \"\"\n",
    "    else:\n",
    "        ride_share_string = \"Use a ride share service for: ${:.2f}\\n\".format(cost)\n",
    "    return ride_share_string"
   ]
  },
  {
   "cell_type": "markdown",
   "metadata": {},
   "source": [
    "**PublicTransportation**: this costs this costs \\\\$2 + \\\\$.10 per mile. There is a max cost of \\\\$10. If the travel is more than 50 miles, this is not an option!  "
   ]
  },
  {
   "cell_type": "code",
   "execution_count": 5,
   "metadata": {},
   "outputs": [],
   "source": [
    "def public_trans(distance, budget):\n",
    "    cost = 2 + .1 * distance\n",
    "    if distance > 50:\n",
    "        pub_trans_string = \"\"\n",
    "    else:\n",
    "        pub_trans_string = \"Use public transportation for: ${:,.2f}\\n\".format(cost)\n",
    "    return pub_trans_string"
   ]
  },
  {
   "cell_type": "markdown",
   "metadata": {},
   "source": [
    "**DriveThere**: this costs \\\\$.25 per mile. If the user doesn't have a car, this is not an option  "
   ]
  },
  {
   "cell_type": "code",
   "execution_count": 21,
   "metadata": {},
   "outputs": [],
   "source": [
    "def drive_self(distance, budget, have_car):\n",
    "    cost = .25 * distance\n",
    "    if have_car == False or cost > budget:\n",
    "        drive_string = \"\"\n",
    "    else:\n",
    "        drive_string = \"Drive yourself for: ${:,.2f}\\n\".format(cost)\n",
    "    return drive_string"
   ]
  },
  {
   "cell_type": "code",
   "execution_count": 22,
   "metadata": {},
   "outputs": [],
   "source": [
    "def get_options():\n",
    "    name, have_car, distance, budget =  get_input()\n",
    "    plane = plane_travel(distance, budget)\n",
    "    rent = rental(distance, budget)\n",
    "    ride_sh = ride_share(distance, budget)\n",
    "    pub_trans = public_trans(distance, budget)\n",
    "    drive = drive_self(distance, budget, have_car)\n",
    "    \n",
    "    \n",
    "    courtesy = \"\\n\\nThank you, {}!\\nHere are your travel options and expenses:\\n\".format(name)\n",
    "    options = courtesy + plane + rent + ride_sh + pub_trans + drive\n",
    "    \n",
    "    if options == courtesy:\n",
    "        options = \"\\n\\nSorry, {}. It appears your budget of ${:,.2f} won't be enough to travel {:,} miles \\\n",
    "via any option.  Keep saving!\".format(name, budget, distance)\n",
    "    \n",
    "    \n",
    "    return print(options)\n",
    "    "
   ]
  },
  {
   "cell_type": "code",
   "execution_count": 23,
   "metadata": {},
   "outputs": [
    {
     "name": "stdout",
     "output_type": "stream",
     "text": [
      "Enter your name: Mike\n",
      "Own a car (enter Yes or No): yes\n",
      "Distance you are traveling: 8000\n",
      "Enter your budget: 20\n",
      "\n",
      "\n",
      "Sorry, Mike. It appears your budget of $20.00 won't be enough to travel 8,000 miles via any option.  Keep saving!\n"
     ]
    }
   ],
   "source": [
    "get_options()"
   ]
  },
  {
   "cell_type": "code",
   "execution_count": 9,
   "metadata": {
    "scrolled": true
   },
   "outputs": [
    {
     "name": "stdout",
     "output_type": "stream",
     "text": [
      "Enter your name: Mike\n",
      "Own a car (enter Yes or No): yes\n",
      "Distance you are traveling: 49\n",
      "Enter your budget: 250\n",
      "\n",
      "\n",
      "Thank you, Mike!\n",
      "Here are your travel options and expenses:\n",
      "Rent a car for: $44.50\n",
      "Use a ride share service for: $19.70\n",
      "Use public transportation for: $6.90\n",
      "Drive yourself for: $12.25\n",
      "\n"
     ]
    }
   ],
   "source": [
    "get_options()"
   ]
  },
  {
   "cell_type": "code",
   "execution_count": 10,
   "metadata": {},
   "outputs": [
    {
     "name": "stdout",
     "output_type": "stream",
     "text": [
      "Enter your name: Mike\n",
      "Own a car (enter Yes or No): no\n",
      "Distance you are traveling: 1000\n",
      "Enter your budget: 2000\n",
      "\n",
      "\n",
      "Thank you, Mike!\n",
      "Here are your travel options and expenses:\n",
      "Take a plane for: $1,050.00\n",
      "Rent a car for: $520.00\n",
      "\n"
     ]
    }
   ],
   "source": [
    "get_options()"
   ]
  },
  {
   "cell_type": "code",
   "execution_count": 15,
   "metadata": {},
   "outputs": [
    {
     "name": "stdout",
     "output_type": "stream",
     "text": [
      "Enter your name: Mike\n",
      "Own a car (enter Yes or No): yes\n",
      "Distance you are traveling: 9000\n",
      "Enter your budget: 20\n",
      "\n",
      "\n",
      "Thank you, Mike!\n",
      "Here are your travel options and expenses:\n",
      "\n",
      "Drive yourself for: $2,250.00\n",
      "\n"
     ]
    }
   ],
   "source": [
    "get_options()"
   ]
  },
  {
   "cell_type": "markdown",
   "metadata": {},
   "source": [
    "There are a lot of other things to consider such as data validation.  Watch as we enter 49 into the \"Own a car\" question..."
   ]
  },
  {
   "cell_type": "code",
   "execution_count": 11,
   "metadata": {},
   "outputs": [
    {
     "name": "stdout",
     "output_type": "stream",
     "text": [
      "Enter your name: Mike\n",
      "Own a car (enter Yes or No): 49\n",
      "Distance you are traveling: 49\n",
      "Enter your budget: 500\n",
      "\n",
      "\n",
      "Thank you, Mike!\n",
      "Here are your travel options and expenses:\n",
      "Rent a car for: $44.50\n",
      "Use a ride share service for: $19.70\n",
      "Use public transportation for: $6.90\n",
      "\n"
     ]
    }
   ],
   "source": [
    "get_options()"
   ]
  },
  {
   "cell_type": "markdown",
   "metadata": {},
   "source": [
    "This is all well and good for Jupyter Notebook but here is a more typical Python program which simply just runs everything without having to run cell by cell."
   ]
  },
  {
   "cell_type": "code",
   "execution_count": 25,
   "metadata": {},
   "outputs": [
    {
     "name": "stdout",
     "output_type": "stream",
     "text": [
      "Enter your name: Mike\n",
      "Own a car (enter Yes or No): yes\n",
      "Distance you are traveling: 49\n",
      "Enter your budget: 200\n",
      "\n",
      "\n",
      "Thank you, Mike!\n",
      "Here are your travel options and expenses:\n",
      "\n",
      "Rent a car for: $44.50\n",
      "Use a ride share service for: $19.70\n",
      "Use public transportation for: $6.90\n",
      "Drive yourself for: $12.25\n",
      "\n"
     ]
    }
   ],
   "source": [
    "# This will get the input from the user\n",
    "def get_input():\n",
    "    name = input(\"Enter your name: \")\n",
    "    have_car = input(\"Own a car (enter Yes or No): \")\n",
    "    if have_car.lower() == 'yes':\n",
    "        have_car = True\n",
    "    else:\n",
    "        have_car = False\n",
    "    \n",
    "    distance = int(input(\"Distance you are traveling: \"))\n",
    "    budget = float(input(\"Enter your budget: \"))\n",
    "    \n",
    "    return name, have_car, distance, budget\n",
    "\n",
    "\n",
    "def plane_travel(distance, budget):\n",
    "    cost = 50 + distance\n",
    "    if distance < 100 or cost > budget:\n",
    "        plane_string = \"\"\n",
    "    else:\n",
    "        plane_string = \"Take a plane for: ${:,.2f}\\n\".format(cost)\n",
    "    return plane_string\n",
    "\n",
    "def rental(distance, budget):\n",
    "    cost = 20 + .5 * distance\n",
    "    if cost > budget:\n",
    "        rent_string = \"\"\n",
    "    else:\n",
    "        rent_string = \"Rent a car for: ${:,.2f}\\n\".format(cost)\n",
    "    return rent_string\n",
    "\n",
    "def ride_share(distance, budget):\n",
    "    cost = 5 + .3 * distance\n",
    "    if distance > 50 or cost > budget:\n",
    "        ride_share_string = \"\"\n",
    "    else:\n",
    "        ride_share_string = \"Use a ride share service for: ${:,.2f}\\n\".format(cost)\n",
    "    return ride_share_string\n",
    "\n",
    "def public_trans(distance, budget):\n",
    "    cost = 2 + .1 * distance\n",
    "    if cost > budget or distance > 50:\n",
    "        pub_trans_string = \"\"\n",
    "    else:\n",
    "        pub_trans_string = \"Use public transportation for: ${:,.2f}\\n\".format(cost)\n",
    "    return pub_trans_string\n",
    "\n",
    "\n",
    "def drive_self(distance, budget, have_car):\n",
    "    cost = .25 * distance\n",
    "    if have_car == False or cost > budget:\n",
    "        drive_string = \"\"\n",
    "    else:\n",
    "        drive_string = \"Drive yourself for: ${:,.2f}\\n\".format(cost)\n",
    "    return drive_string\n",
    "\n",
    "\n",
    "def get_options():\n",
    "    name, have_car, distance, budget =  get_input()\n",
    "    plane = plane_travel(distance, budget)\n",
    "    rent = rental(distance, budget)\n",
    "    ride_sh = ride_share(distance, budget)\n",
    "    pub_trans = public_trans(distance, budget)\n",
    "    drive = drive_self(distance, budget, have_car)\n",
    "    \n",
    "    courtesy = \"\\n\\nThank you, {}!\\nHere are your travel options and expenses:\\n\\n\".format(name)\n",
    "    options = courtesy + plane + rent + ride_sh + pub_trans + drive\n",
    "    \n",
    "    if options == courtesy:\n",
    "        options = \"\\n\\nSorry, {}.  It appears your budget of ${:,.2f} won't be enough to travel via any option.  \\\n",
    "Keep saving!\".format(name, budget)\n",
    "    \n",
    "    return print(options)\n",
    "\n",
    "\n",
    "if __name__ == \"__main__\":\n",
    "    get_options()\n"
   ]
  },
  {
   "cell_type": "code",
   "execution_count": null,
   "metadata": {},
   "outputs": [],
   "source": []
  }
 ],
 "metadata": {
  "kernelspec": {
   "display_name": "Python 3",
   "language": "python",
   "name": "python3"
  },
  "language_info": {
   "codemirror_mode": {
    "name": "ipython",
    "version": 3
   },
   "file_extension": ".py",
   "mimetype": "text/x-python",
   "name": "python",
   "nbconvert_exporter": "python",
   "pygments_lexer": "ipython3",
   "version": "3.8.5"
  }
 },
 "nbformat": 4,
 "nbformat_minor": 4
}
